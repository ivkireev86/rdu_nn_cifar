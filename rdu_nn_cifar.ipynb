{
 "cells": [
  {
   "cell_type": "markdown",
   "metadata": {
    "colab_type": "text",
    "id": "7UVft7MJawH0"
   },
   "source": [
    "# Выбираем модель"
   ]
  },
  {
   "cell_type": "code",
   "execution_count": 1,
   "metadata": {
    "colab": {
     "base_uri": "https://localhost:8080/",
     "height": 34
    },
    "colab_type": "code",
    "id": "1zoOKDmXZSgs",
    "outputId": "131d89f2-512c-4749-e148-e810905929d6"
   },
   "outputs": [
    {
     "name": "stderr",
     "output_type": "stream",
     "text": [
      "C:\\ProgramData\\Anaconda3\\lib\\site-packages\\h5py\\__init__.py:34: FutureWarning: Conversion of the second argument of issubdtype from `float` to `np.floating` is deprecated. In future, it will be treated as `np.float64 == np.dtype(float).type`.\n",
      "  from ._conv import register_converters as _register_converters\n",
      "Using TensorFlow backend.\n"
     ]
    }
   ],
   "source": [
    "from common import load_data, validation, compare_models\n",
    "from models import get_all_models"
   ]
  },
  {
   "cell_type": "code",
   "execution_count": 2,
   "metadata": {
    "colab": {},
    "colab_type": "code",
    "collapsed": true,
    "id": "2eQTuS-l07r6"
   },
   "outputs": [],
   "source": [
    "X_train, Y_train, X_test, Y_test = load_data()"
   ]
  },
  {
   "cell_type": "code",
   "execution_count": 3,
   "metadata": {
    "colab": {},
    "colab_type": "code",
    "collapsed": true,
    "id": "sSDgLlYb07r9"
   },
   "outputs": [],
   "source": [
    "num_train, height, width, depth = X_train.shape\n",
    "num_classes = Y_train.shape[1]"
   ]
  },
  {
   "cell_type": "code",
   "execution_count": 4,
   "metadata": {
    "colab": {},
    "colab_type": "code",
    "collapsed": true,
    "id": "HkMZzDQI07sA"
   },
   "outputs": [],
   "source": [
    "models = get_all_models(height, width, depth, num_classes)"
   ]
  },
  {
   "cell_type": "code",
   "execution_count": 0,
   "metadata": {
    "colab": {
     "base_uri": "https://localhost:8080/",
     "height": 138
    },
    "colab_type": "code",
    "id": "3b1qRa7r07sC",
    "outputId": "38505886-b95e-49f9-a1b7-c79b35070ab7"
   },
   "outputs": [
    {
     "name": "stdout",
     "output_type": "stream",
     "text": [
      "  28   0.934634   0.716800   <class 'rdu_nn_cifar.models.VggLikeModel'> conv_params=[{'conv_count': 2, 'filters': 16, 'activation': 'tanh', 'dropout_rate': 0.4, 'kernel_regularizer': <keras.regularizers.L1L2 object at 0x7f884c776940>}, {'conv_count': 2, 'filters': 32, 'activation': 'tanh', 'dropout_rate': 0.4, 'kernel_regularizer': <keras.regularizers.L1L2 object at 0x7f884c7768d0>}, {'conv_count': 2, 'filters': 64, 'activation': 'tanh', 'dropout_rate': 0.4, 'kernel_regularizer': <keras.regularizers.L1L2 object at 0x7f884c776dd8>}] dense_dropout_rate=0.5 dense_size=[512]\n",
      "  29   0.912153   0.720900   <class 'rdu_nn_cifar.models.VggLikeModel'> conv_params=[{'conv_count': 3, 'filters': 16, 'activation': 'tanh', 'dropout_rate': 0.4, 'kernel_regularizer': <keras.regularizers.L1L2 object at 0x7f884c4f3c50>}, {'conv_count': 3, 'filters': 32, 'activation': 'tanh', 'dropout_rate': 0.4, 'kernel_regularizer': <keras.regularizers.L1L2 object at 0x7f884c507940>}, {'conv_count': 3, 'filters': 64, 'activation': 'tanh', 'dropout_rate': 0.4, 'kernel_regularizer': <keras.regularizers.L1L2 object at 0x7f884c507048>}] dense_dropout_rate=0.5 dense_size=[512]\n",
      "  30   1.038994   0.725900   <class 'rdu_nn_cifar.models.VggLikeModel'> conv_params=[{'conv_count': 2, 'filters': 32, 'activation': 'tanh', 'dropout_rate': 0.4, 'kernel_regularizer': <keras.regularizers.L1L2 object at 0x7f884c209470>}, {'conv_count': 2, 'filters': 64, 'activation': 'tanh', 'dropout_rate': 0.4, 'kernel_regularizer': <keras.regularizers.L1L2 object at 0x7f884c209da0>}, {'conv_count': 2, 'filters': 128, 'activation': 'tanh', 'dropout_rate': 0.4, 'kernel_regularizer': <keras.regularizers.L1L2 object at 0x7f884c209d30>}] dense_dropout_rate=0.5 dense_size=[512]\n",
      "  31   0.953974   0.713200   <class 'rdu_nn_cifar.models.VggLikeModel'> conv_params=[{'conv_count': 2, 'filters': 16, 'activation': 'relu', 'dropout_rate': 0.4, 'kernel_regularizer': <keras.regularizers.L1L2 object at 0x7f884bf86dd8>}, {'conv_count': 2, 'filters': 32, 'activation': 'relu', 'dropout_rate': 0.4, 'kernel_regularizer': <keras.regularizers.L1L2 object at 0x7f884bf9ea90>}, {'conv_count': 2, 'filters': 64, 'activation': 'relu', 'dropout_rate': 0.4, 'kernel_regularizer': <keras.regularizers.L1L2 object at 0x7f884bf9e080>}] dense_dropout_rate=0.5 dense_size=[512]\n",
      "  32   1.769604   0.492600   <class 'rdu_nn_cifar.models.VggLikeModel'> conv_params=[{'conv_count': 2, 'filters': 16, 'activation': 'tanh', 'dropout_rate': 0.7, 'kernel_regularizer': <keras.regularizers.L1L2 object at 0x7f884bd1b518>}, {'conv_count': 2, 'filters': 32, 'activation': 'tanh', 'dropout_rate': 0.7, 'kernel_regularizer': <keras.regularizers.L1L2 object at 0x7f884bd1be48>}, {'conv_count': 2, 'filters': 64, 'activation': 'tanh', 'dropout_rate': 0.7, 'kernel_regularizer': <keras.regularizers.L1L2 object at 0x7f884bd1bdd8>}] dense_dropout_rate=0.5 dense_size=[512]\n",
      "  33   0.985976   0.695800   <class 'rdu_nn_cifar.models.VggLikeModel'> conv_params=[{'conv_count': 2, 'filters': 16, 'activation': 'tanh', 'dropout_rate': 0.4, 'kernel_regularizer': <keras.regularizers.L1L2 object at 0x7f884ba9cc50>}, {'conv_count': 2, 'filters': 32, 'activation': 'tanh', 'dropout_rate': 0.4, 'kernel_regularizer': <keras.regularizers.L1L2 object at 0x7f884bab0940>}, {'conv_count': 2, 'filters': 64, 'activation': 'tanh', 'dropout_rate': 0.4, 'kernel_regularizer': <keras.regularizers.L1L2 object at 0x7f884bab0048>}] dense_dropout_rate=0.5 dense_size=[512, 128]\n"
     ]
    }
   ],
   "source": [
    "res = compare_models(models, X_train, Y_train, X_test, Y_test, start_from=35)"
   ]
  },
  {
   "cell_type": "code",
   "execution_count": 0,
   "metadata": {
    "colab": {},
    "colab_type": "code",
    "collapsed": true,
    "id": "ciQic7Uc07sP"
   },
   "outputs": [],
   "source": [
    "res"
   ]
  },
  {
   "cell_type": "markdown",
   "metadata": {
    "colab_type": "text",
    "id": "M3_lpAXdbDaL"
   },
   "source": [
    "# Дотрейниваем сеть\n"
   ]
  },
  {
   "cell_type": "code",
   "execution_count": 5,
   "metadata": {
    "colab": {},
    "colab_type": "code",
    "collapsed": true,
    "id": "AwJNgjC8ddyH"
   },
   "outputs": [],
   "source": [
    "model_ix = 35"
   ]
  },
  {
   "cell_type": "code",
   "execution_count": null,
   "metadata": {
    "colab": {},
    "colab_type": "code",
    "collapsed": true,
    "id": "b99vpWGDBNTJ"
   },
   "outputs": [],
   "source": [
    "model = models[model_ix]"
   ]
  },
  {
   "cell_type": "code",
   "execution_count": null,
   "metadata": {
    "colab": {
     "base_uri": "https://localhost:8080/",
     "height": 101
    },
    "colab_type": "code",
    "id": "v9tKen9pYi7_",
    "outputId": "f40ff4f4-11b1-461b-be70-13d73d8f8cb6"
   },
   "outputs": [
    {
     "name": "stdout",
     "output_type": "stream",
     "text": [
      "Model: \n",
      "4.4920469131469725 0.1\n",
      "Train on 45000 samples, validate on 5000 samples\n",
      "Epoch 1/20\n",
      " 4384/45000 [=>............................] - ETA: 1:58:37 - loss: 5.4593 - acc: 0.1357"
     ]
    }
   ],
   "source": [
    "validation(model, X_train, Y_train, X_test, Y_test, epochs=20, verbose=1)"
   ]
  },
  {
   "cell_type": "markdown",
   "metadata": {
    "colab_type": "text",
    "id": "DeK0XeciblHZ"
   },
   "source": [
    "# Делаем сабмит"
   ]
  },
  {
   "cell_type": "code",
   "execution_count": 0,
   "metadata": {
    "colab": {},
    "colab_type": "code",
    "collapsed": true,
    "id": "ZbO3Qz2IcRhv"
   },
   "outputs": [],
   "source": [
    "import numpy as np\n",
    "import pandas as pd"
   ]
  },
  {
   "cell_type": "code",
   "execution_count": 19,
   "metadata": {
    "colab": {
     "base_uri": "https://localhost:8080/",
     "height": 34
    },
    "colab_type": "code",
    "id": "gCclJE4AYj-3",
    "outputId": "b46a6d7c-99e3-4c91-85e5-f3ebcf9b634a"
   },
   "outputs": [
    {
     "data": {
      "text/plain": [
       "(2000, 32, 32, 3)"
      ]
     },
     "execution_count": 19,
     "metadata": {
      "tags": []
     },
     "output_type": "execute_result"
    }
   ],
   "source": [
    "x_valid = np.load('/content/test.npy')\n",
    "x_valid.shape"
   ]
  },
  {
   "cell_type": "code",
   "execution_count": 0,
   "metadata": {
    "colab": {},
    "colab_type": "code",
    "collapsed": true,
    "id": "AKYlYt-1gZ-s"
   },
   "outputs": [],
   "source": [
    "x_valid = x_valid.astype('float32')\n",
    "max_x_values = 256\n",
    "x_valid /= max_x_values  # Normalise data to [0, 1] range"
   ]
  },
  {
   "cell_type": "code",
   "execution_count": 0,
   "metadata": {
    "colab": {},
    "colab_type": "code",
    "collapsed": true,
    "id": "U5L6J5GAbtRG"
   },
   "outputs": [],
   "source": [
    "predict = model.predict(x_valid)"
   ]
  },
  {
   "cell_type": "code",
   "execution_count": 22,
   "metadata": {
    "colab": {
     "base_uri": "https://localhost:8080/",
     "height": 195
    },
    "colab_type": "code",
    "id": "wzh9to2Qb2Ib",
    "outputId": "43edad8f-78b1-4f3f-f12f-0821c6b47f03"
   },
   "outputs": [
    {
     "data": {
      "text/html": [
       "<div>\n",
       "<style scoped>\n",
       "    .dataframe tbody tr th:only-of-type {\n",
       "        vertical-align: middle;\n",
       "    }\n",
       "\n",
       "    .dataframe tbody tr th {\n",
       "        vertical-align: top;\n",
       "    }\n",
       "\n",
       "    .dataframe thead th {\n",
       "        text-align: right;\n",
       "    }\n",
       "</style>\n",
       "<table border=\"1\" class=\"dataframe\">\n",
       "  <thead>\n",
       "    <tr style=\"text-align: right;\">\n",
       "      <th></th>\n",
       "      <th>0</th>\n",
       "      <th>1</th>\n",
       "      <th>2</th>\n",
       "      <th>3</th>\n",
       "      <th>4</th>\n",
       "      <th>5</th>\n",
       "      <th>6</th>\n",
       "      <th>7</th>\n",
       "      <th>8</th>\n",
       "      <th>9</th>\n",
       "    </tr>\n",
       "  </thead>\n",
       "  <tbody>\n",
       "    <tr>\n",
       "      <th>0</th>\n",
       "      <td>1.789034e-01</td>\n",
       "      <td>4.161344e-03</td>\n",
       "      <td>8.637774e-02</td>\n",
       "      <td>1.189657e-01</td>\n",
       "      <td>3.754953e-02</td>\n",
       "      <td>1.091564e-01</td>\n",
       "      <td>5.945502e-03</td>\n",
       "      <td>4.013829e-01</td>\n",
       "      <td>3.016956e-03</td>\n",
       "      <td>5.454049e-02</td>\n",
       "    </tr>\n",
       "    <tr>\n",
       "      <th>1</th>\n",
       "      <td>4.630393e-09</td>\n",
       "      <td>5.330252e-09</td>\n",
       "      <td>2.874460e-03</td>\n",
       "      <td>2.464778e-03</td>\n",
       "      <td>1.654522e-07</td>\n",
       "      <td>9.945354e-01</td>\n",
       "      <td>1.255259e-05</td>\n",
       "      <td>1.124890e-04</td>\n",
       "      <td>1.180288e-08</td>\n",
       "      <td>9.870973e-08</td>\n",
       "    </tr>\n",
       "    <tr>\n",
       "      <th>2</th>\n",
       "      <td>7.165512e-05</td>\n",
       "      <td>4.307057e-07</td>\n",
       "      <td>3.283823e-02</td>\n",
       "      <td>3.965079e-03</td>\n",
       "      <td>2.300791e-02</td>\n",
       "      <td>6.464711e-01</td>\n",
       "      <td>7.117366e-04</td>\n",
       "      <td>2.929336e-01</td>\n",
       "      <td>8.841874e-09</td>\n",
       "      <td>1.844541e-07</td>\n",
       "    </tr>\n",
       "    <tr>\n",
       "      <th>3</th>\n",
       "      <td>1.230051e-02</td>\n",
       "      <td>6.324655e-03</td>\n",
       "      <td>8.708184e-02</td>\n",
       "      <td>4.050241e-01</td>\n",
       "      <td>4.735753e-02</td>\n",
       "      <td>2.454573e-01</td>\n",
       "      <td>3.779888e-02</td>\n",
       "      <td>1.355391e-01</td>\n",
       "      <td>1.293396e-02</td>\n",
       "      <td>1.018220e-02</td>\n",
       "    </tr>\n",
       "    <tr>\n",
       "      <th>4</th>\n",
       "      <td>2.126846e-03</td>\n",
       "      <td>7.353626e-04</td>\n",
       "      <td>5.684761e-07</td>\n",
       "      <td>4.985782e-07</td>\n",
       "      <td>5.503691e-08</td>\n",
       "      <td>2.003356e-08</td>\n",
       "      <td>2.554098e-09</td>\n",
       "      <td>1.494241e-08</td>\n",
       "      <td>9.923425e-01</td>\n",
       "      <td>4.794078e-03</td>\n",
       "    </tr>\n",
       "  </tbody>\n",
       "</table>\n",
       "</div>"
      ],
      "text/plain": [
       "              0             1             2             3             4  \\\n",
       "0  1.789034e-01  4.161344e-03  8.637774e-02  1.189657e-01  3.754953e-02   \n",
       "1  4.630393e-09  5.330252e-09  2.874460e-03  2.464778e-03  1.654522e-07   \n",
       "2  7.165512e-05  4.307057e-07  3.283823e-02  3.965079e-03  2.300791e-02   \n",
       "3  1.230051e-02  6.324655e-03  8.708184e-02  4.050241e-01  4.735753e-02   \n",
       "4  2.126846e-03  7.353626e-04  5.684761e-07  4.985782e-07  5.503691e-08   \n",
       "\n",
       "              5             6             7             8             9  \n",
       "0  1.091564e-01  5.945502e-03  4.013829e-01  3.016956e-03  5.454049e-02  \n",
       "1  9.945354e-01  1.255259e-05  1.124890e-04  1.180288e-08  9.870973e-08  \n",
       "2  6.464711e-01  7.117366e-04  2.929336e-01  8.841874e-09  1.844541e-07  \n",
       "3  2.454573e-01  3.779888e-02  1.355391e-01  1.293396e-02  1.018220e-02  \n",
       "4  2.003356e-08  2.554098e-09  1.494241e-08  9.923425e-01  4.794078e-03  "
      ]
     },
     "execution_count": 22,
     "metadata": {
      "tags": []
     },
     "output_type": "execute_result"
    }
   ],
   "source": [
    "pd_predict = pd.DataFrame(predict)\n",
    "pd_predict.head()"
   ]
  },
  {
   "cell_type": "code",
   "execution_count": 0,
   "metadata": {
    "colab": {},
    "colab_type": "code",
    "collapsed": true,
    "id": "0e8o7U3ncLDx"
   },
   "outputs": [],
   "source": [
    "pd_predict = pd_predict.idxmax(axis=1)"
   ]
  },
  {
   "cell_type": "code",
   "execution_count": 0,
   "metadata": {
    "colab": {},
    "colab_type": "code",
    "collapsed": true,
    "id": "WwiFHF_3fLjw"
   },
   "outputs": [],
   "source": [
    "pd_predict = pd_predict.reset_index()"
   ]
  },
  {
   "cell_type": "code",
   "execution_count": 0,
   "metadata": {
    "colab": {},
    "colab_type": "code",
    "collapsed": true,
    "id": "aIkvtZHEfMb4"
   },
   "outputs": [],
   "source": [
    "pd_predict.columns = ['Id', 'Category']"
   ]
  },
  {
   "cell_type": "code",
   "execution_count": 26,
   "metadata": {
    "colab": {
     "base_uri": "https://localhost:8080/",
     "height": 34
    },
    "colab_type": "code",
    "id": "FomyT8hwcQC5",
    "outputId": "48e9744f-a6bc-47e4-8a6b-e26432aa2d4c"
   },
   "outputs": [
    {
     "name": "stdout",
     "output_type": "stream",
     "text": [
      "model_30.csv\n"
     ]
    }
   ],
   "source": [
    "file_name = \"model_{}.csv\".format(model_ix)\n",
    "print(file_name)\n",
    "pd_predict.to_csv(file_name, header=1, index=0)"
   ]
  },
  {
   "cell_type": "code",
   "execution_count": 27,
   "metadata": {
    "colab": {
     "base_uri": "https://localhost:8080/",
     "height": 185
    },
    "colab_type": "code",
    "id": "_1ZnwYRZcQuD",
    "outputId": "43884414-e425-4860-9438-8d1510210e67"
   },
   "outputs": [
    {
     "name": "stdout",
     "output_type": "stream",
     "text": [
      "Id,Category\r\n",
      "0,7\r\n",
      "1,5\r\n",
      "2,5\r\n",
      "3,3\r\n",
      "4,8\r\n",
      "5,5\r\n",
      "6,7\r\n",
      "7,6\r\n",
      "8,9\r\n"
     ]
    }
   ],
   "source": [
    "!head $file_name"
   ]
  },
  {
   "cell_type": "code",
   "execution_count": 0,
   "metadata": {
    "colab": {},
    "colab_type": "code",
    "collapsed": true,
    "id": "yhhWTMnPePIT"
   },
   "outputs": [],
   "source": [
    "import re"
   ]
  },
  {
   "cell_type": "code",
   "execution_count": 0,
   "metadata": {
    "colab": {},
    "colab_type": "code",
    "collapsed": true,
    "id": "gBpuK7TPeEkw"
   },
   "outputs": [],
   "source": [
    "s_message = \"\" + re.sub(r'[^\\w\\d\\s]','_', model.name)"
   ]
  },
  {
   "cell_type": "code",
   "execution_count": 30,
   "metadata": {
    "colab": {
     "base_uri": "https://localhost:8080/",
     "height": 34
    },
    "colab_type": "code",
    "id": "WvaS1OUrdzll",
    "outputId": "10969044-f335-4ea7-ba20-9c9206aad99c"
   },
   "outputs": [
    {
     "name": "stdout",
     "output_type": "stream",
     "text": [
      "Successfully submitted to CIFAR-10"
     ]
    }
   ],
   "source": [
    "!kaggle competitions submit -f $file_name -m \"$s_message\" -c 'another-cifar-10'"
   ]
  },
  {
   "cell_type": "code",
   "execution_count": 0,
   "metadata": {
    "colab": {},
    "colab_type": "code",
    "collapsed": true,
    "id": "SNDOtyHrhRBk"
   },
   "outputs": [],
   "source": []
  },
  {
   "cell_type": "code",
   "execution_count": 0,
   "metadata": {
    "colab": {},
    "colab_type": "code",
    "collapsed": true,
    "id": "XPRwBCg9NuE0"
   },
   "outputs": [],
   "source": []
  }
 ],
 "metadata": {
  "accelerator": "GPU",
  "colab": {
   "collapsed_sections": [],
   "name": "rdu_nn_cifar.ipynb",
   "provenance": [],
   "version": "0.3.2"
  },
  "kernelspec": {
   "display_name": "Python 3",
   "language": "python",
   "name": "python3"
  },
  "language_info": {
   "codemirror_mode": {
    "name": "ipython",
    "version": 3
   },
   "file_extension": ".py",
   "mimetype": "text/x-python",
   "name": "python",
   "nbconvert_exporter": "python",
   "pygments_lexer": "ipython3",
   "version": "3.6.3"
  }
 },
 "nbformat": 4,
 "nbformat_minor": 1
}
